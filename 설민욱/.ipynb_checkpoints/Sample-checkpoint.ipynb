{
 "cells": [
  {
   "cell_type": "markdown",
   "metadata": {},
   "source": [
    "->다음주 목요일 3월 12일까지 각자 이번에 공부한 핸즈온머신러닝의 \n",
    "부족한 부분을 복습 및 교안을 만들며, \n",
    "저희가 공통적으로 교안을 만들 템플릿을 가져오는 것이 숙제입니다.\n",
    "\n",
    "구체적인 예로 \n",
    "1.   템플릿을 PPT 혹은 Jupyter 등 어떤 식으로 할지, \n",
    "본인이 만들거나 남의 정리한 것을 예로 가져오시면 됩니다. \n",
    "\n",
    "2.   책의 16장이라는 광범위한 부분을 다 저희가 교안으로 만드는 것은 어려운 부분이므로,\n",
    " 목차를 어떤 식으로 줄여서 가져갈지도 생각하시면 좋을 것 같습니다.\n",
    "\n",
    "3.   한주에 어느정도의 양을 다루며, 정리의 깊이를 간략하게 할지 자세하게 할지 고려\n",
    " 준비하고 있는 것을 1차로 화요일 자정까지 git에 올려 주시고, \n",
    "목요일날 각자 완성본으로 만나는 방식으로 하겠습니다. "
   ]
  },
  {
   "cell_type": "markdown",
   "metadata": {},
   "source": [
    "# -> 개인적인 의견입니다.\n",
    "\n",
    "1. ppt보단 jupyter가 조금 더 나아보입니다. 왜냐하면 코드를 직접 실행해보고 값을 도출해보는게 중요하다고 생각합니다.\n",
    "\n",
    "\n",
    "2. chapter 1~3, 12는 따로 문서로 만들어도 무관하다고 생각합니다. 내용만 정리해도 충분하다고 생각합니다. 제일 중요한 부분은 신경망 부분이라고 생각합니다. 나머지는 파트별로 나누어서 그 chapter에 대한 책임을 가지는 것이 중요하다고 생각합니다.\n",
    "\n",
    "\n",
    "3. 깊이는 자기가 취업하는데 필요한 부분이 아니면 책에서 정리해주는 내용 이상으로 들어가는 것은 필요하지 않다고 생각합니다. 빅데이터 분야는 수학, 통계, 컴퓨터 지식도 중요하지만 도메인 선택도 중요하다고 생각합니다. 한 주에 최소 1 chapter 완성본 제작으로 목표를 잡는 것이 좋아보입니다. \n",
    "\n",
    "### 아래는 Sample 예시입니다.\n",
    "참고 사이트 : https://gist.github.com/rxaviers/7360908"
   ]
  },
  {
   "cell_type": "markdown",
   "metadata": {},
   "source": [
    "# 👊 CHAPTER 1 한눈에 보는 머신러닝\n",
    "\n",
    "\n",
    "#### 🙋 Chapter Manager : 홍길동  🙎 Contents Add : 아무개, ....                             "
   ]
  },
  {
   "cell_type": "markdown",
   "metadata": {},
   "source": [
    "## 👊1.1 한눈에 보는 머신러닝"
   ]
  },
  {
   "cell_type": "code",
   "execution_count": 1,
   "metadata": {},
   "outputs": [],
   "source": [
    "# 내용은 자기가 원하는 만큼 작성합니다."
   ]
  },
  {
   "cell_type": "markdown",
   "metadata": {},
   "source": [
    "### 👊1.1 한눈에 보는 머신러닝 추가사항"
   ]
  },
  {
   "cell_type": "code",
   "execution_count": 2,
   "metadata": {},
   "outputs": [],
   "source": [
    "# 자기가 추가하고 싶은 내용은 내용정리가 끝나고 추가해 주도록 합시다!"
   ]
  },
  {
   "cell_type": "code",
   "execution_count": 3,
   "metadata": {},
   "outputs": [],
   "source": [
    "# 추가사항은 최대한 간략하게 작성하고 책임자에게 물어봐서 적용시킬 것!"
   ]
  },
  {
   "cell_type": "code",
   "execution_count": null,
   "metadata": {},
   "outputs": [],
   "source": []
  }
 ],
 "metadata": {
  "kernelspec": {
   "display_name": "Python 3",
   "language": "python",
   "name": "python3"
  },
  "language_info": {
   "codemirror_mode": {
    "name": "ipython",
    "version": 3
   },
   "file_extension": ".py",
   "mimetype": "text/x-python",
   "name": "python",
   "nbconvert_exporter": "python",
   "pygments_lexer": "ipython3",
   "version": "3.7.3"
  }
 },
 "nbformat": 4,
 "nbformat_minor": 2
}

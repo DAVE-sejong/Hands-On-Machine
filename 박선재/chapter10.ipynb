{
  "nbformat": 4,
  "nbformat_minor": 0,
  "metadata": {
    "colab": {
      "name": "chapter10.ipynb",
      "provenance": []
    },
    "kernelspec": {
      "name": "python3",
      "display_name": "Python 3"
    }
  },
  "cells": [
    {
      "cell_type": "code",
      "metadata": {
        "id": "3yYWUePY713p",
        "colab_type": "code",
        "colab": {}
      },
      "source": [
        "import tensorflow as tf\n",
        "import pandas as pd\n",
        "import numpy as np\n",
        "from sklearn.datasets import load_iris\n",
        "from sklearn.preprocessing import StandardScaler as ss\n",
        "from datetime import datetime\n",
        "from tensorboard import notebook\n",
        "from sklearn.linear_model import Perceptron as pct\n",
        "#%load_ext tensorboard \n",
        "#%tensorboard --logdir=./logs \n",
        "#pd.DataFrame(hdata,columns=house.feature_names )"
      ],
      "execution_count": 0,
      "outputs": []
    },
    {
      "cell_type": "markdown",
      "metadata": {
        "id": "9OPDXb2yDdAC",
        "colab_type": "text"
      },
      "source": [
        "### chapter 10 인공 신경망  \n",
        "뇌의 구조를 바탕으로 뉴런을 만들었다. 그러나 뉴런이 실제 뇌의 구조와 같을 필요는 없다.  \n",
        "MCP뉴런 - 매우 단순한 생물학적 뉴런 모델은 MCP 뉴런으로 일정 개수의 입력이 활성화되었을 때 출력을 내보낸다. \n"
      ]
    },
    {
      "cell_type": "markdown",
      "metadata": {
        "id": "O1NQ6H6SDySY",
        "colab_type": "text"
      },
      "source": [
        "퍼셉트론 - TLU 라는 인공 뉴런 기반이고 입력과 출력이 숫자이다. 각각의 입력 연결은 가중치와 연관되어 있다.\n",
        "$ h\\left(x\\right)=step\\left(z\\right)=step\\left(W^T\\bullet X\\right) $  \n",
        "TLU는 가중차 합을 계산하고 계단함수를 적용한다.  \n",
        "계단함수로는 헤비사이드, 부호 함수를 사용한다.  \n",
        "가중치는  헤브의 규칙으로 학습시킨다.  \n",
        "$ W_{i,j}^{(next\\ step)}=\\ W_{i,j}\\ +\\ \\eta(y_i-\\widehat{y_i})x_i $"
      ]
    },
    {
      "cell_type": "code",
      "metadata": {
        "id": "WtiHtbIIDxLr",
        "colab_type": "code",
        "colab": {
          "base_uri": "https://localhost:8080/",
          "height": 35
        },
        "outputId": "2bf3ba24-8699-429e-dea7-7b467ea58ab8"
      },
      "source": [
        "iris=load_iris()\n",
        "x=iris.data.astype(np.float32)\n",
        "y=(iris.target==0).astype(np.int)\n",
        "pct().fit(x[:,(2,3)],y)\n",
        "per_clf.predict([[2,0.5]])"
      ],
      "execution_count": 21,
      "outputs": [
        {
          "output_type": "execute_result",
          "data": {
            "text/plain": [
              "array([0])"
            ]
          },
          "metadata": {
            "tags": []
          },
          "execution_count": 21
        }
      ]
    },
    {
      "cell_type": "markdown",
      "metadata": {
        "id": "L7g6qzf0bor2",
        "colab_type": "text"
      },
      "source": [
        "퍼셉트론은 베타적 논리합 문제를 풀수 없는 것과 같은 약점이 있다.  \n",
        "그러나 여러 퍼셉트론을 쌓아올려 일부 제약을 줄일 수 있다. 이런 인공 신경망을 다층 퍼셉트론(MLP) 라고 한다.   \n",
        "MLP는 입력층, 은닉층, 출력층 으로 구성되고 은닉층이 2개 이상일 때 이를 심층 신경망(DNN) 이라고 한다.  \n",
        "다층 퍼셉트론은 역전파 훈련 알고리즘으로 학습시킨다.  \n",
        "출력 오차를 계산하고 오차 그래디언트를 구하여 가중치에 반영한다.  \n",
        "오차 그래디언트를 구하기 위하여 로지스틱 함수, 쌍곡 탄젠트 함수, ReLU 함수 등을 사용한다.  \n",
        "이런 신경망은 한 방향으로만 흐르기 때문에 피드 포워드 신경망 이라고 한다.\n"
      ]
    },
    {
      "cell_type": "markdown",
      "metadata": {
        "id": "R6yNYeOkm0XN",
        "colab_type": "text"
      },
      "source": [
        "### DNNClassifer"
      ]
    },
    {
      "cell_type": "code",
      "metadata": {
        "id": "kXupdncnZyk1",
        "colab_type": "code",
        "colab": {}
      },
      "source": [
        "featcol=tf.contrib.learn.infer_real_valued_columns_from_input(x)\n",
        "dnn_clf=tf.contrib.learn.DNNClassifier(hidden_units=[30,10],n_classes=10,feature_columns=featcol)\n",
        "dnn_sk=tf.contrib.learn.SKCompat(dnn_clf)\n",
        "dnn_sk.fit(x[:100],y[:100],batch_size=20,steps=4000)"
      ],
      "execution_count": 0,
      "outputs": []
    },
    {
      "cell_type": "code",
      "metadata": {
        "id": "RH9P1igpZ0dS",
        "colab_type": "code",
        "colab": {
          "base_uri": "https://localhost:8080/",
          "height": 107
        },
        "outputId": "22bcdaf0-1e9a-49db-b478-0777f87c3cde"
      },
      "source": [
        "from sklearn.metrics import accuracy_score\n",
        "yp=dnn_sk.predict(x[:100])\n",
        "accuracy_score(y[:100],yp['classes'])"
      ],
      "execution_count": 36,
      "outputs": [
        {
          "output_type": "stream",
          "text": [
            "INFO:tensorflow:Graph was finalized.\n",
            "INFO:tensorflow:Restoring parameters from /tmp/tmpcg7t8li5/model.ckpt-4000\n",
            "INFO:tensorflow:Running local_init_op.\n",
            "INFO:tensorflow:Done running local_init_op.\n"
          ],
          "name": "stdout"
        },
        {
          "output_type": "execute_result",
          "data": {
            "text/plain": [
              "1.0"
            ]
          },
          "metadata": {
            "tags": []
          },
          "execution_count": 36
        }
      ]
    },
    {
      "cell_type": "markdown",
      "metadata": {
        "id": "jJRmY4WynD7A",
        "colab_type": "text"
      },
      "source": [
        ""
      ]
    }
  ]
}